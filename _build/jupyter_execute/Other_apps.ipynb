{
 "cells": [
  {
   "cell_type": "markdown",
   "metadata": {},
   "source": [
    "# Other applications\n",
    "\n",
    "This section covers the other identified applications. "
   ]
  },
  {
   "cell_type": "code",
   "execution_count": 1,
   "metadata": {},
   "outputs": [
    {
     "data": {
      "text/html": [
       "<div id=\"my_id_menu_nb\">run previous cell, wait for 2 seconds</div>\n",
       "<script>\n",
       "function repeat_indent_string(n){\n",
       "    var a = \"\" ;\n",
       "    for ( ; n > 0 ; --n)\n",
       "        a += \"    \";\n",
       "    return a;\n",
       "}\n",
       "// look up into all sections and builds an automated menu //\n",
       "var update_menu_string = function(begin, lfirst, llast, sformat, send, keep_item, begin_format, end_format) {\n",
       "    var anchors = document.getElementsByClassName(\"section\");\n",
       "    if (anchors.length == 0) {\n",
       "        anchors = document.getElementsByClassName(\"text_cell_render rendered_html\");\n",
       "    }\n",
       "    var i,t;\n",
       "    var text_menu = begin;\n",
       "    var text_memo = \"<pre>\\nlength:\" + anchors.length + \"\\n\";\n",
       "    var ind = \"\";\n",
       "    var memo_level = 1;\n",
       "    var href;\n",
       "    var tags = [];\n",
       "    var main_item = 0;\n",
       "    var format_open = 0;\n",
       "    for (i = 0; i <= llast; i++)\n",
       "        tags.push(\"h\" + i);\n",
       "\n",
       "    for (i = 0; i < anchors.length; i++) {\n",
       "        text_memo += \"**\" + anchors[i].id + \"--\\n\";\n",
       "\n",
       "        var child = null;\n",
       "        for(t = 0; t < tags.length; t++) {\n",
       "            var r = anchors[i].getElementsByTagName(tags[t]);\n",
       "            if (r.length > 0) {\n",
       "child = r[0];\n",
       "break;\n",
       "            }\n",
       "        }\n",
       "        if (child == null) {\n",
       "            text_memo += \"null\\n\";\n",
       "            continue;\n",
       "        }\n",
       "        if (anchors[i].hasAttribute(\"id\")) {\n",
       "            // when converted in RST\n",
       "            href = anchors[i].id;\n",
       "            text_memo += \"#1-\" + href;\n",
       "            // passer à child suivant (le chercher)\n",
       "        }\n",
       "        else if (child.hasAttribute(\"id\")) {\n",
       "            // in a notebook\n",
       "            href = child.id;\n",
       "            text_memo += \"#2-\" + href;\n",
       "        }\n",
       "        else {\n",
       "            text_memo += \"#3-\" + \"*\" + \"\\n\";\n",
       "            continue;\n",
       "        }\n",
       "        var title = child.textContent;\n",
       "        var level = parseInt(child.tagName.substring(1,2));\n",
       "\n",
       "        text_memo += \"--\" + level + \"?\" + lfirst + \"--\" + title + \"\\n\";\n",
       "\n",
       "        if ((level < lfirst) || (level > llast)) {\n",
       "            continue ;\n",
       "        }\n",
       "        if (title.endsWith('¶')) {\n",
       "            title = title.substring(0,title.length-1).replace(\"<\", \"&lt;\")\n",
       "         .replace(\">\", \"&gt;\").replace(\"&\", \"&amp;\");\n",
       "        }\n",
       "        if (title.length == 0) {\n",
       "            continue;\n",
       "        }\n",
       "\n",
       "        while (level < memo_level) {\n",
       "            text_menu += end_format + \"</ul>\\n\";\n",
       "            format_open -= 1;\n",
       "            memo_level -= 1;\n",
       "        }\n",
       "        if (level == lfirst) {\n",
       "            main_item += 1;\n",
       "        }\n",
       "        if (keep_item != -1 && main_item != keep_item + 1) {\n",
       "            // alert(main_item + \" - \" + level + \" - \" + keep_item);\n",
       "            continue;\n",
       "        }\n",
       "        while (level > memo_level) {\n",
       "            text_menu += \"<ul>\\n\";\n",
       "            memo_level += 1;\n",
       "        }\n",
       "        text_menu += repeat_indent_string(level-2);\n",
       "        text_menu += begin_format + sformat.replace(\"__HREF__\", href).replace(\"__TITLE__\", title);\n",
       "        format_open += 1;\n",
       "    }\n",
       "    while (1 < memo_level) {\n",
       "        text_menu += end_format + \"</ul>\\n\";\n",
       "        memo_level -= 1;\n",
       "        format_open -= 1;\n",
       "    }\n",
       "    text_menu += send;\n",
       "    //text_menu += \"\\n\" + text_memo;\n",
       "\n",
       "    while (format_open > 0) {\n",
       "        text_menu += end_format;\n",
       "        format_open -= 1;\n",
       "    }\n",
       "    return text_menu;\n",
       "};\n",
       "var update_menu = function() {\n",
       "    var sbegin = \"\";\n",
       "    var sformat = '<a href=\"#__HREF__\">__TITLE__</a>';\n",
       "    var send = \"\";\n",
       "    var begin_format = '<li>';\n",
       "    var end_format = '</li>';\n",
       "    var keep_item = -1;\n",
       "    var text_menu = update_menu_string(sbegin, 2, 4, sformat, send, keep_item,\n",
       "       begin_format, end_format);\n",
       "    var menu = document.getElementById(\"my_id_menu_nb\");\n",
       "    menu.innerHTML=text_menu;\n",
       "};\n",
       "window.setTimeout(update_menu,2000);\n",
       "            </script>"
      ],
      "text/plain": [
       "<IPython.core.display.HTML object>"
      ]
     },
     "execution_count": 1,
     "metadata": {},
     "output_type": "execute_result"
    }
   ],
   "source": [
    "from jyquickhelper import add_notebook_menu\n",
    "add_notebook_menu()"
   ]
  },
  {
   "cell_type": "markdown",
   "metadata": {},
   "source": [
    "##  Live Streaming Application\n",
    "\n",
    "`Ref:` [Li, D. C., Chen, B. H., Tseng, C. W., & Chou, L. D. (2020). A Novel Genetic Service Function Deployment Management Platform for Edge Computing. Mobile Information Systems, 2020.](https://www.hindawi.com/journals/misy/2020/8830294/)\n",
    "\n",
    "\n",
    "<center><img src=\"https://raw.githubusercontent.com/ASFarah/IoT_Benchmark/main/images/LiveStreaming.png\"\n",
    "     alt=\"Markdown Monster icon\"\n",
    "     style=\"float: center; margin-right: 10px;\" width=\"500\" /></center>"
   ]
  },
  {
   "cell_type": "markdown",
   "metadata": {},
   "source": [
    "## Face recognizer application\n",
    "### Example 1\n",
    "\n",
    "* `Ref_1:` [Basic, F., Aral, A., & Brandic, I. (2019, June). Fuzzy handoff control in edge offloading. In 2019 IEEE International Conference on Fog Computing (ICFC) (pp. 87-96). IEEE.](https://www.researchgate.net/profile/Atakan-Aral/publication/335580866_Fuzzy_Handoff_Control_in_Edge_Offloading/links/5fd6a10b92851c13fe84cb27/Fuzzy-Handoff-Control-in-Edge-Offloading.pdf) \n",
    "\n",
    "* `Ref_2:` [De Maio, V., & Brandic, I. (2018). **First hop mobile offloading of dag computations**. IEEE/ACM CCGRID (pp. 83-92).](https://www.ec.tuwien.ac.at/~ivona/papers/CCGrid2018.pdf) [**Source code**](https://github.com/vindem/sleipnir)\n",
    "\n",
    "\n",
    "<center><img src=\"https://raw.githubusercontent.com/ASFarah/IoT_Benchmark/main/images/FaceRecognizer.png?raw=true\"\n",
    "     alt=\"Markdown Monster icon\"\n",
    "     style=\"float: center; margin-right: 10px;\" width=\"500\" /></center>\n",
    "\n",
    "### Example 2\n",
    "`Ref:` [Kuang, L., Gong, T., OuYang, S., Gao, H., & Deng, S. (2020). Offloading decision methods for multiple users with structured tasks in edge computing for smart cities. Future Generation Computer Systems, 105, 717-729.](https://www.sciencedirect.com/science/article/abs/pii/S0167739X19323325) \n",
    "\n",
    "\n",
    "<center><img src=\"https://raw.githubusercontent.com/ASFarah/IoT_Benchmark/main/images/FaceReconition.png?raw=true\"\n",
    "     alt=\"Markdown Monster icon\"\n",
    "     style=\"float: center; margin-right: 10px;\" width=\"500\" /></center>\n",
    "\n",
    "\n",
    "### Example 3\n",
    "`Ref:` [Perala, S. S. N., Galanis, I., & Anagnostopoulos, I. (2018). Fog computing and efficient resource management in the era of Internet-of-video things (IoVT). In IEEE ISCAS. pp. 1-5.](https://ieeexplore.ieee.org/abstract/document/8351341/?casa_token=1JLrIfehIUUAAAAA:sxaHVj8QU8SB18emgMYD4cW0QvgaMAt9W0SS0V1sg9UUuKpbrXF_dUZcD3pbMLdD9Eyrs0lrY84) \n",
    "\n",
    "\n",
    "<center><img src=\"https://raw.githubusercontent.com/ASFarah/IoT_Benchmark/main/images/FaceRecognition_2.png?raw=true\"\n",
    "     alt=\"Markdown Monster icon\"\n",
    "     style=\"float: center; margin-right: 10px;\" width=\"500\" /></center>"
   ]
  },
  {
   "cell_type": "markdown",
   "metadata": {},
   "source": [
    "## Navigator application\n",
    "\n",
    "* `Ref_1:` [Basic, F., Aral, A., & Brandic, I. (2019, June). **Fuzzy handoff control in edge offloading**. IEEE ICFC. (pp. 87-96). IEEE.](https://www.researchgate.net/profile/Atakan-Aral/publication/335580866_Fuzzy_Handoff_Control_in_Edge_Offloading/links/5fd6a10b92851c13fe84cb27/Fuzzy-Handoff-Control-in-Edge-Offloading.pdf) \n",
    "\n",
    "* `Ref_2:` [De Maio, V., & Brandic, I. (2018). **First hop mobile offloading of dag computations**. IEEE/ACM CCGRID (pp. 83-92).](https://www.ec.tuwien.ac.at/~ivona/papers/CCGrid2018.pdf) [**Source code**](https://github.com/vindem/sleipnir)\n",
    "\n",
    "<center><img src=\"https://raw.githubusercontent.com/ASFarah/IoT_Benchmark/main/images/Navigator.png\"\n",
    "     alt=\"Markdown Monster icon\"\n",
    "     style=\"float: center; margin-right: 10px;\" width=\"500\" /></center>"
   ]
  },
  {
   "cell_type": "markdown",
   "metadata": {},
   "source": [
    "## Sock shop demo application\n",
    "\n",
    "`Ref:` [Guerrero, C., Lera, I., & Juiz, C. (2019). **A lightweight decentralized service placement policy for performance optimization in fog computing**. Journal of Ambient Intelligence and Humanized Computing, 10(6), 2435-2452.](https://link.springer.com/article/10.1007/s12652-018-0914-0)\n",
    "\n",
    "\n",
    "\n",
    "\n",
    "<center><img src=\"https://raw.githubusercontent.com/ASFarah/IoT_Benchmark/main/images/Shopping_1.png\"\n",
    "     alt=\"Markdown Monster icon\"\n",
    "     style=\"float: center; margin-right: 10px;\" width=\"500\" /></center>"
   ]
  },
  {
   "cell_type": "markdown",
   "metadata": {},
   "source": [
    "## Antivirus application\n",
    "`Ref:` [De Maio, V., & Brandic, I. (2018). **First hop mobile offloading of dag computations**. IEEE/ACM CCGRID (pp. 83-92).](https://www.ec.tuwien.ac.at/~ivona/papers/CCGrid2018.pdf) [**Source code**](https://github.com/vindem/sleipnir)\n",
    "\n",
    "<center><img src=\"https://raw.githubusercontent.com/ASFarah/IoT_Benchmark/main/images/Antivirus.png\"\n",
    "     alt=\"Markdown Monster icon\"\n",
    "     style=\"float: center; margin-right: 10px;\" width=\"500\" /></center>"
   ]
  },
  {
   "cell_type": "markdown",
   "metadata": {},
   "source": [
    "## Chess application\n",
    "`Ref:` [De Maio, V., & Brandic, I. (2018). **First hop mobile offloading of dag computations**. IEEE/ACM CCGRID (pp. 83-92).](https://www.ec.tuwien.ac.at/~ivona/papers/CCGrid2018.pdf) [**Source code**](https://github.com/vindem/sleipnir)\n",
    "\n",
    "<center><img src=\"https://raw.githubusercontent.com/ASFarah/IoT_Benchmark/main/images/Chess_app.png\"\n",
    "     alt=\"Markdown Monster icon\"\n",
    "     style=\"float: center; margin-right: 10px;\" width=\"500\" /></center>"
   ]
  },
  {
   "cell_type": "markdown",
   "metadata": {},
   "source": [
    "## Montage application for assembling multiple independent astronomical images\n",
    "\n",
    "`Ref:` [De Maio, V., & Kimovski, D. (2020). Multi-objective scheduling of extreme data scientific workflows in Fog. Future Generation Computer Systems, 106, 171-184.](https://www.sciencedirect.com/science/article/abs/pii/S0167739X19309197)\n",
    "\n",
    "\n",
    "\n",
    "\n",
    "<center><img src=\"https://raw.githubusercontent.com/ASFarah/IoT_Benchmark/main/images/Montage.png\"\n",
    "     alt=\"Markdown Monster icon\"\n",
    "     style=\"float: center; margin-right: 10px;\" width=\"500\" /></center>\n"
   ]
  },
  {
   "cell_type": "markdown",
   "metadata": {},
   "source": [
    "## MeteoAG scientific application for conduction meteorological simulations\n",
    "\n",
    "`Ref:` [De Maio, V., & Kimovski, D. (2020). Multi-objective scheduling of extreme data scientific workflows in Fog. Future Generation Computer Systems, 106, 171-184.](https://www.sciencedirect.com/science/article/abs/pii/S0167739X19309197)\n",
    "\n",
    "\n",
    "\n",
    "\n",
    "<center><img src=\"https://raw.githubusercontent.com/ASFarah/IoT_Benchmark/main/images/MeteoAG.png\"\n",
    "     alt=\"Markdown Monster icon\"\n",
    "     style=\"float: center; margin-right: 10px;\" width=\"500\" /></center>"
   ]
  },
  {
   "cell_type": "markdown",
   "metadata": {},
   "source": [
    "## Epigenomics workflow pipeline that executes various genome sequencing operations\n",
    "\n",
    "`Ref:` [De Maio, V., & Kimovski, D. (2020). Multi-objective scheduling of extreme data scientific workflows in Fog. Future Generation Computer Systems, 106, 171-184.](https://www.sciencedirect.com/science/article/abs/pii/S0167739X19309197)\n",
    "\n",
    "\n",
    "\n",
    "\n",
    "<center><img src=\"https://raw.githubusercontent.com/ASFarah/IoT_Benchmark/main/images/Epigenomics.png\"\n",
    "     alt=\"Markdown Monster icon\"\n",
    "     style=\"float: center; margin-right: 10px;\" width=\"500\" /></center>"
   ]
  },
  {
   "cell_type": "markdown",
   "metadata": {},
   "source": [
    "## Burrows-Wheeler aligner workflow for performing low-divergent sequencing against a large reference genome\n",
    "\n",
    "`Ref:` [De Maio, V., & Kimovski, D. (2020). Multi-objective scheduling of extreme data scientific workflows in Fog. Future Generation Computer Systems, 106, 171-184.](https://www.sciencedirect.com/science/article/abs/pii/S0167739X19309197)\n",
    "\n",
    "\n",
    "\n",
    "\n",
    "<center><img src=\"https://raw.githubusercontent.com/ASFarah/IoT_Benchmark/main/images/BWA.png\"\n",
    "     alt=\"Markdown Monster icon\"\n",
    "     style=\"float: center; margin-right: 10px;\" width=\"500\" /></center>"
   ]
  },
  {
   "cell_type": "markdown",
   "metadata": {},
   "source": [
    "## Earthquake application\n",
    "\n",
    "`Ref:` [Mouradian, C., Kianpisheh, S., Abu-Lebdeh, M., Ebrahimnezhad, F., Jahromi, N. T., & Glitho, R. H. (2019). **Application component placement in NFV-based hybrid cloud/fog systems with mobile fog nodes**. IEEE Journal on Selected Areas in Communications, 37(5), 1130-1143.](https://ieeexplore.ieee.org/iel7/49/5594698/08673549.pdf?casa_token=7ypWHfBi7J4AAAAA:zpQdvIeJFBcn5f0F8oec-sXMFFRztBOl6V2bu-E0TJ4cq_PdeWDwT7_BqxNBVPbKn11reACcdao)\n",
    "\n",
    "<center><img src=\"https://raw.githubusercontent.com/ASFarah/IoT_Benchmark/main/images/Earthquake.png\"\n",
    "     alt=\"Markdown Monster icon\"\n",
    "     style=\"float: center; margin-right: 10px;\" width=\"500\" /></center>"
   ]
  },
  {
   "cell_type": "markdown",
   "metadata": {},
   "source": [
    "## A smart agriculture application.\n",
    "\n",
    "`Ref:` [A. Brogi, S. Forti and A. Ibrahim (2017). **How to Best Deploy Your Fog Applications, Probably**. IEEE ICFEC. pp. 105-114.](https://ieeexplore.ieee.org/document/8014366)\n",
    "\n",
    "\n",
    "<center><img src=\"https://raw.githubusercontent.com/ASFarah/IoT_Benchmark/main/images/Agriculture_1.png\"\n",
    "     alt=\"Markdown Monster icon\"\n",
    "     style=\"float: center; margin-right: 10px;\" width=\"500\" /></center>"
   ]
  }
 ],
 "metadata": {
  "kernelspec": {
   "display_name": "Python 3",
   "language": "python",
   "name": "python3"
  },
  "language_info": {
   "codemirror_mode": {
    "name": "ipython",
    "version": 3
   },
   "file_extension": ".py",
   "mimetype": "text/x-python",
   "name": "python",
   "nbconvert_exporter": "python",
   "pygments_lexer": "ipython3",
   "version": "3.8.8"
  },
  "widgets": {
   "application/vnd.jupyter.widget-state+json": {
    "state": {},
    "version_major": 2,
    "version_minor": 0
   }
  }
 },
 "nbformat": 4,
 "nbformat_minor": 4
}